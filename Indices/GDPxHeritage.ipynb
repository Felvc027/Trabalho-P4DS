{
 "cells": [
  {
   "cell_type": "code",
   "execution_count": null,
   "metadata": {},
   "outputs": [],
   "source": [
    "import numpy as np\n",
    "import scipy as sp\n",
    "import pandas as pd\n",
    "import matplotlib.pyplot as plt\n",
    "import statsmodels.formula.api as sm"
   ]
  },
  {
   "cell_type": "code",
   "execution_count": null,
   "metadata": {},
   "outputs": [],
   "source": [
    "heritage = pd.read_excel('index2017_data.xls', sheet_name='Sheet1')[[\"Country\",\"2017 Score\"]]\n",
    "gdp = pd.read_excel(\"GDP_per_capita.xls\", sheet_name='Data', header=3)[[\"Country Name\", \"2017\"]]\n",
    "heritage.join(gdp)"
   ]
  },
  {
   "cell_type": "code",
   "execution_count": null,
   "metadata": {},
   "outputs": [],
   "source": [
    "a,b,lista = list(heritage[\"Country\"]), list(gdp[\"Country Name\"]), []\n",
    "for i in a:\n",
    "    var = 0\n",
    "    for k in i.split():\n",
    "        if var == 1:\n",
    "            break\n",
    "        if k not in (\"of\",\"the\", \"and \", \"Korea\"):\n",
    "            for j in b:\n",
    "                if k in j or (i,j) in [('Burma', 'Myanmar')] or \\\n",
    "                (i,j) in [('Macau', 'Macao SAR, China')] or \\\n",
    "                (i,j) in [('Swaziland', 'Eswatini' )] or \\\n",
    "                (i,j) in [('Taiwan ', 'East Asia & Pacific (excluding high income)' )]: \n",
    "                    lista.append(j)\n",
    "                    b.remove(j)\n",
    "                    var = 1\n",
    "                    break\n",
    "lib, pib = pd.DataFrame(heritage[\"2017 Score\"] ), pd.DataFrame(gdp[\"2017\"] )\n",
    "lib.index,pib.index = lista, gdp[\"Country Name\"]\n",
    "lib = lib.reindex(gdp[\"Country Name\"])\n",
    "comp = pib.join(lib).dropna()\n",
    "comp.columns = [\"Index of Economic Freedom\", \"GDP per capita\"]\n",
    "comp"
   ]
  },
  {
   "cell_type": "code",
   "execution_count": null,
   "metadata": {},
   "outputs": [],
   "source": [
    "plt.scatter( comp[\"GDP per capita\"] ,comp[\"Index of Economic Freedom\"])\n",
    "plt.show()"
   ]
  },
  {
   "cell_type": "code",
   "execution_count": null,
   "metadata": {},
   "outputs": [],
   "source": [
    "var, comp.columns = 0, [\"y\",\"x\"]\n",
    "for i in np.arange(0.1,5,0.1):\n",
    "    reg = sm.ols(formula='y~pow(x,{})'.format(i), data=comp).fit()\n",
    "    if reg.rsquared > var:\n",
    "        var = reg.rsquared\n",
    "        k = i\n",
    "reg = sm.ols(formula='y~pow(x,{})'.format(k), data=comp).fit()\n",
    "reg.summary()"
   ]
  },
  {
   "cell_type": "code",
   "execution_count": null,
   "metadata": {},
   "outputs": [],
   "source": [
    "plt.scatter(y=comp['y'], x=comp['x'], color='blue', s=50, alpha=.5)\n",
    "X_plot = sp.linspace(min(comp['x']), max(comp['x']), len(comp['x']))\n",
    "plt.plot(X_plot, (X_plot**k)*reg.params[1] + reg.params[0], color='r')\n",
    "plt.title('Linha de tendencia')\n",
    "plt.xlabel(\"Index of Economic Freedom\")\n",
    "plt.ylabel(\"GDP per capita\")\n",
    "plt.show()"
   ]
  }
 ],
 "metadata": {
  "kernelspec": {
   "display_name": "Python 3",
   "language": "python",
   "name": "python3"
  },
  "language_info": {
   "codemirror_mode": {
    "name": "ipython",
    "version": 3
   },
   "file_extension": ".py",
   "mimetype": "text/x-python",
   "name": "python",
   "nbconvert_exporter": "python",
   "pygments_lexer": "ipython3",
   "version": "3.5.2"
  }
 },
 "nbformat": 4,
 "nbformat_minor": 2
}
