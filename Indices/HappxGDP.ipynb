{
 "cells": [
  {
   "cell_type": "code",
   "execution_count": null,
   "metadata": {},
   "outputs": [],
   "source": [
    "import numpy as np\n",
    "import scipy as sp\n",
    "import pandas as pd\n",
    "import matplotlib.pyplot as plt\n",
    "import statsmodels.formula.api as sm"
   ]
  },
  {
   "cell_type": "code",
   "execution_count": null,
   "metadata": {
    "scrolled": true
   },
   "outputs": [],
   "source": [
    "feli = pd.read_excel('World_Happiness_Report_2017.xls', sheet_name='Figure2.2 WHR 2017')[\"Happiness score\"]\n",
    "gdp = pd.read_excel(\"GDP_per_capita.xls\", sheet_name='Data', header=3)[[\"Country Name\", \"2017\"]]\n",
    "from Fnames import names\n",
    "feli.index, gdp.index = names, gdp[\"Country Name\"]\n",
    "feli = pd.DataFrame(feli.reindex(gdp[\"Country Name\"]))\n",
    "comp = feli.join(gdp[\"2017\"]).dropna()\n",
    "comp"
   ]
  },
  {
   "cell_type": "code",
   "execution_count": null,
   "metadata": {},
   "outputs": [],
   "source": [
    "plt.scatter(comp[\"2017\"] ,comp[\"Happiness score\"])\n",
    "plt.ylim(2.5,8.5)\n",
    "plt.xlim(-10000, 100000)\n",
    "plt.show()"
   ]
  },
  {
   "cell_type": "code",
   "execution_count": null,
   "metadata": {},
   "outputs": [],
   "source": [
    "var, comp.columns = 0, [\"y\",\"x\"]\n",
    "for i in np.arange(0.1,5,0.1):\n",
    "    reg = sm.ols(formula='y~pow(x,{})'.format(i), data=comp).fit()\n",
    "    if reg.rsquared > var:\n",
    "        var = reg.rsquared\n",
    "        k = i\n",
    "reg = sm.ols(formula='y~pow(x,{})'.format(k), data=comp).fit()\n",
    "reg.summary()"
   ]
  },
  {
   "cell_type": "code",
   "execution_count": null,
   "metadata": {},
   "outputs": [],
   "source": [
    "plt.scatter(y=comp['y'], x=comp['x'], color='blue', s=50, alpha=.5)\n",
    "X_plot = sp.linspace(min(comp['x']), max(comp['x']), len(comp['x']))\n",
    "plt.plot(X_plot, (X_plot**k)*reg.params[1] + reg.params[0], color='r')\n",
    "plt.ylim(2.5,8.5)\n",
    "plt.xlim(-10000, 100000)\n",
    "plt.title('Curva Ajustada')\n",
    "plt.xlabel(\"GDP per capita\")\n",
    "plt.ylabel(\"Happiness score\")\n",
    "plt.show()"
   ]
  }
 ],
 "metadata": {
  "kernelspec": {
   "display_name": "Python 3",
   "language": "python",
   "name": "python3"
  },
  "language_info": {
   "codemirror_mode": {
    "name": "ipython",
    "version": 3
   },
   "file_extension": ".py",
   "mimetype": "text/x-python",
   "name": "python",
   "nbconvert_exporter": "python",
   "pygments_lexer": "ipython3",
   "version": "3.5.2"
  }
 },
 "nbformat": 4,
 "nbformat_minor": 2
}
